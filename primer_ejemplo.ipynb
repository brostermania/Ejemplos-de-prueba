{
 "cells": [
  {
   "cell_type": "code",
   "execution_count": 2,
   "metadata": {},
   "outputs": [
    {
     "name": "stdout",
     "output_type": "stream",
     "text": [
      "3 is a positive number.\n",
      "This is always printed.\n",
      "This is also a positive numer\n"
     ]
    }
   ],
   "source": [
    "num = 3\n",
    "if num > 0:\n",
    "    print(num, 'is a positive number.')\n",
    "print('This is always printed.')\n",
    "\n",
    "num = -1\n",
    "if num > 0:\n",
    "    print(num, 'is also a positive number.')\n",
    "print('This is also a positive numer')"
   ]
  }
 ],
 "metadata": {
  "kernelspec": {
   "display_name": "Python 3",
   "language": "python",
   "name": "python3"
  },
  "language_info": {
   "codemirror_mode": {
    "name": "ipython",
    "version": 3
   },
   "file_extension": ".py",
   "mimetype": "text/x-python",
   "name": "python",
   "nbconvert_exporter": "python",
   "pygments_lexer": "ipython3",
   "version": "3.7.7"
  }
 },
 "nbformat": 4,
 "nbformat_minor": 4
}
